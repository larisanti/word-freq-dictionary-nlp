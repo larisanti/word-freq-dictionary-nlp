{
  "nbformat": 4,
  "nbformat_minor": 0,
  "metadata": {
    "colab": {
      "provenance": []
    },
    "kernelspec": {
      "name": "python3",
      "display_name": "Python 3"
    },
    "language_info": {
      "name": "python"
    }
  },
  "cells": [
    {
      "cell_type": "markdown",
      "source": [
        "# Word Frequency Dictionary\n",
        "This notebook is a record of my lab practice in the course \"Natural Language Processing with Classification and Vector Spaces\". It explores sentiment analysis of tweets using word frequencies and demonstrates the process of:\n",
        "\n",
        "- Loading and exploring a dataset of positive and negative tweets.\n",
        "- Building a word frequency dictionary to count the occurrences of words in relation to sentiment.\n",
        "- Visualizing word counts to understand the distribution of words across positive and negative tweets."
      ],
      "metadata": {
        "id": "IRwBhyUgsQOf"
      }
    },
    {
      "cell_type": "markdown",
      "source": [
        "####Setup and Imports"
      ],
      "metadata": {
        "id": "XRcGF0QcsVBv"
      }
    },
    {
      "cell_type": "code",
      "execution_count": 41,
      "metadata": {
        "id": "dZ7GFcxnsILm"
      },
      "outputs": [],
      "source": [
        "import nltk                                # Python library for NLP\n",
        "from nltk.corpus import twitter_samples    # Sample Twitter dataset from NLTK\n",
        "import matplotlib.pyplot as plt            # Visualization library\n",
        "import numpy as np                         # Library for scientific computing and matrix operations\n",
        "import random                              # Pseudo-random number generator\n",
        "import re                                  # Library for regular expression operations\n",
        "import string                              # For string operations\n",
        "\n",
        "from nltk.corpus import stopwords          # Module for stop words that come with NLTK\n",
        "from nltk.stem import PorterStemmer        # Module for stemming\n",
        "from nltk.tokenize import TweetTokenizer   # Module for tokenizing strings\n",
        "\n",
        "#nltk.download('twitter_samples')\n",
        "#nltk.download('stopwords')"
      ]
    },
    {
      "cell_type": "markdown",
      "source": [
        "##Exploring the Dataset"
      ],
      "metadata": {
        "id": "4fXZEIaUt8KX"
      }
    },
    {
      "cell_type": "code",
      "source": [
        "# Select the lists of positive and negative tweets\n",
        "all_positive_tweets = twitter_samples.strings('positive_tweets.json')\n",
        "all_negative_tweets = twitter_samples.strings('negative_tweets.json')\n",
        "\n",
        "# Concatenate the lists, 1st part is the positive tweets followed by the negative\n",
        "tweets = all_positive_tweets + all_negative_tweets\n",
        "print(\"Number of tweets: \", len(tweets))"
      ],
      "metadata": {
        "colab": {
          "base_uri": "https://localhost:8080/"
        },
        "id": "UjzxXUsYsjWR",
        "outputId": "8445cee7-0d20-43c6-8d7a-aa09c0037e51"
      },
      "execution_count": 42,
      "outputs": [
        {
          "output_type": "stream",
          "name": "stdout",
          "text": [
            "Number of tweets:  10000\n"
          ]
        }
      ]
    },
    {
      "cell_type": "code",
      "metadata": {
        "colab": {
          "base_uri": "https://localhost:8080/",
          "height": 391
        },
        "id": "7bedf432",
        "outputId": "27d43084-da88-48aa-e98e-5fcefb69c709"
      },
      "source": [
        "# Make a numpy array representing labels of the tweets\n",
        "labels = np.append(np.ones((len(all_positive_tweets))), np.zeros((len(all_negative_tweets))))\n",
        "\n",
        "# Count the occurrences of each label (0s and 1s)\n",
        "label_counts = np.bincount(labels.astype(int))\n",
        "\n",
        "# Create labels for the bars\n",
        "categories = ['Negative Tweets', 'Positive Tweets']\n",
        "\n",
        "# Create the bar chart\n",
        "plt.figure(figsize=(6, 4))\n",
        "plt.bar(categories, label_counts, color=['darkred', 'green'])\n",
        "plt.ylabel('Number of Tweets')\n",
        "plt.title('Distribution of Positive and Negative Tweets')\n",
        "plt.show()"
      ],
      "execution_count": 43,
      "outputs": [
        {
          "output_type": "display_data",
          "data": {
            "text/plain": [
              "<Figure size 600x400 with 1 Axes>"
            ],
            "image/png": "[encoded data removed]"
          },
          "metadata": {}
        }
      ]
    },
    {
      "cell_type": "markdown",
      "source": [
        "##Building Dictionaries"
      ],
      "metadata": {
        "id": "isDex-Gsup4l"
      }
    },
    {
      "cell_type": "markdown",
      "source": [
        "###Adding or editing entries"
      ],
      "metadata": {
        "id": "SWrT5jX_uxSB"
      }
    },
    {
      "cell_type": "code",
      "source": [
        "# Create an empty dictionary\n",
        "dictionary = {}\n",
        "\n",
        "# Add a new entry\n",
        "dictionary['key3'] = -5\n",
        "\n",
        "# Overwrite the value of key1\n",
        "dictionary['key1'] = 0\n",
        "\n",
        "print(dictionary)"
      ],
      "metadata": {
        "colab": {
          "base_uri": "https://localhost:8080/"
        },
        "id": "dlXHtH0MuweK",
        "outputId": "a5d44dd8-9f70-48e8-f939-ca1c7ef90556"
      },
      "execution_count": 44,
      "outputs": [
        {
          "output_type": "stream",
          "name": "stdout",
          "text": [
            "{'key3': -5, 'key1': 0}\n"
          ]
        }
      ]
    },
    {
      "cell_type": "markdown",
      "source": [
        "###Accessing values and lookup keys"
      ],
      "metadata": {
        "id": "rQFZ-vEMvDwt"
      }
    },
    {
      "cell_type": "code",
      "source": [
        "# Print a value\n",
        "if 'key1' in dictionary:\n",
        "    print(\"item found: \", dictionary['key1'])\n",
        "else:\n",
        "    print('key1 is not defined')\n",
        "\n",
        "# Or use this\n",
        "#print(\"item found: \", dictionary.get('key1', -1))\n",
        "\n",
        "# Prints a message if key is not found\n",
        "if 'key7' in dictionary:\n",
        "    print(dictionary['key7'])\n",
        "else:\n",
        "    print('key does not exist!')\n",
        "\n",
        "# Prints -1 because if key is not found and set the default to -1\n",
        "print(dictionary.get('key7', -1))"
      ],
      "metadata": {
        "colab": {
          "base_uri": "https://localhost:8080/"
        },
        "id": "n5LS2x4XvHKR",
        "outputId": "30c46727-057b-4833-f3c0-34c88fd9a4f2"
      },
      "execution_count": 45,
      "outputs": [
        {
          "output_type": "stream",
          "name": "stdout",
          "text": [
            "item found:  0\n",
            "key does not exist!\n",
            "-1\n"
          ]
        }
      ]
    },
    {
      "cell_type": "markdown",
      "source": [
        "##Building a Word frequency Dictionary"
      ],
      "metadata": {
        "id": "s0ZLPRDlwpg0"
      }
    },
    {
      "cell_type": "code",
      "source": [
        "# Process tweet function\n",
        "def process_tweet(tweet):\n",
        "    stemmer = PorterStemmer()\n",
        "    stopwords_english = stopwords.words('english')\n",
        "    # Remove old style retweet text \"RT\"\n",
        "    tweet = re.sub(r'^RT[\\s]+', '', tweet)\n",
        "    # Remove hyperlinks\n",
        "    tweet = re.sub(r'https?://[^<\\s]*[^<\\s>]', '', tweet)\n",
        "    # Remove hashtags\n",
        "    tweet = re.sub(r'#', '', tweet)\n",
        "    # Tokenize tweets\n",
        "    tokenizer = TweetTokenizer(preserve_case=False, strip_handles=True,\n",
        "                               reduce_len=True)\n",
        "    tweet_tokens = tokenizer.tokenize(tweet)\n",
        "\n",
        "    tweets_clean = []\n",
        "    for word in tweet_tokens:\n",
        "        if (word not in stopwords_english and # Remove stopwords\n",
        "            word not in string.punctuation):  # Remove punctuation\n",
        "            tweets_clean.append(word)\n",
        "\n",
        "    tweets_stem = []\n",
        "    for word in tweets_clean:\n",
        "        stem_word = stemmer.stem(word)  # Stemming word\n",
        "        tweets_stem.append(stem_word)\n",
        "\n",
        "    return tweets_stem"
      ],
      "metadata": {
        "id": "dWV5X7WtyJVi"
      },
      "execution_count": 46,
      "outputs": []
    },
    {
      "cell_type": "code",
      "source": [
        "# Create frequency dictionary\n",
        "freqs = build_freqs(tweets, labels)\n",
        "\n",
        "# Check data type\n",
        "print(f'type(freqs) = {type(freqs)}')\n",
        "\n",
        "# Check length of the dictionary\n",
        "print(f'len(freqs) = {len(freqs)}')"
      ],
      "metadata": {
        "colab": {
          "base_uri": "https://localhost:8080/"
        },
        "id": "J0EoO5Ql0fv2",
        "outputId": "e134eb90-6906-4205-94ec-e8dadc7575e0"
      },
      "execution_count": 52,
      "outputs": [
        {
          "output_type": "stream",
          "name": "stdout",
          "text": [
            "type(freqs) = <class 'dict'>\n",
            "len(freqs) = 13140\n"
          ]
        }
      ]
    },
    {
      "cell_type": "code",
      "source": [
        "# Build frequencies\n",
        "def build_freqs(tweets, ys):\n",
        "    yslist = np.squeeze(ys).tolist()\n",
        "    freqs = {} # Initialize the dictionary\n",
        "    for y, tweet in zip(yslist, tweets):\n",
        "        for word in process_tweet(tweet): # process_tweet is now defined in the same scope\n",
        "            pair = (word, y)\n",
        "            freqs[pair] = freqs.get(pair, 0) + 1\n",
        "    return freqs"
      ],
      "metadata": {
        "id": "ZjhiywHgyWOM"
      },
      "execution_count": 53,
      "outputs": []
    },
    {
      "cell_type": "markdown",
      "source": [
        "##Table of Word Counts"
      ],
      "metadata": {
        "id": "srYvVT_ty6ES"
      }
    },
    {
      "cell_type": "code",
      "source": [
        "# Select some words to appear in the report. we will assume that each word is unique (i.e. no duplicates)\n",
        "keys = ['happi', 'merri', 'nice', 'good', 'bad', 'sad', 'mad', 'best', 'pretti',\n",
        "        '❤', ':)', ':(', '😒', '😬', '😄', '😍', '♛',\n",
        "        'song', 'idea', 'power', 'play', 'magnific']\n",
        "\n",
        "# List representing our table of word counts.\n",
        "# Each element consist of a sublist with this pattern: [<word>, <positive_count>, <negative_count>]\n",
        "data = []\n",
        "\n",
        "# Loop through our selected words\n",
        "for word in keys:\n",
        "\n",
        "    # Initialize positive and negative counts\n",
        "    pos = 0\n",
        "    neg = 0\n",
        "\n",
        "    # Rretrieve number of positive counts\n",
        "    if (word, 1) in freqs:\n",
        "        pos = freqs[(word, 1)]\n",
        "\n",
        "    # Retrieve number of negative counts\n",
        "    if (word, 0) in freqs:\n",
        "        neg = freqs[(word, 0)]\n",
        "\n",
        "    # Append the word counts to the table\n",
        "    data.append([word, pos, neg])\n",
        "\n",
        "# Print header\n",
        "print(f\"{'Word':<15} {'Positive Count':<15} {'Negative Count':<15}\")\n",
        "print(f\"{'-'*15:<15} {'-'*15:<15} {'-'*15:<15}\") # Separator line\n",
        "\n",
        "# Print data rows\n",
        "for row in data:\n",
        "    word, pos_count, neg_count = row\n",
        "    print(f\"{word:<15} {pos_count:<15} {neg_count:<15}\")"
      ],
      "metadata": {
        "colab": {
          "base_uri": "https://localhost:8080/"
        },
        "id": "N-seC04dy9W2",
        "outputId": "d713dbbc-b6fa-4b1c-b75b-1d11fed02989"
      },
      "execution_count": 57,
      "outputs": [
        {
          "output_type": "stream",
          "name": "stdout",
          "text": [
            "Word            Positive Count  Negative Count \n",
            "--------------- --------------- ---------------\n",
            "happi           212             25             \n",
            "merri           1               0              \n",
            "nice            99              19             \n",
            "good            238             101            \n",
            "bad             18              73             \n",
            "sad             5               123            \n",
            "mad             4               11             \n",
            "best            65              22             \n",
            "pretti          20              15             \n",
            "❤               29              21             \n",
            ":)              3691            2              \n",
            ":(              1               4584           \n",
            "😒               2               3              \n",
            "😬               0               2              \n",
            "😄               5               1              \n",
            "😍               5               1              \n",
            "♛               0               210            \n",
            "song            22              27             \n",
            "idea            27              10             \n",
            "power           7               6              \n",
            "play            46              48             \n",
            "magnific        2               0              \n"
          ]
        }
      ]
    },
    {
      "cell_type": "code",
      "source": [
        "# Inspect thE table visually with a scatter plot\n",
        "\n",
        "fig, ax = plt.subplots(figsize = (8, 8))\n",
        "\n",
        "# Convert positive raw counts to logarithmic scale. we add 1 to avoid log(0)\n",
        "x = np.log([x[1] + 1 for x in data])\n",
        "\n",
        "# Do the same for the negative counts\n",
        "y = np.log([x[2] + 1 for x in data])\n",
        "\n",
        "# Plot a dot for each pair of words\n",
        "ax.scatter(x, y)\n",
        "\n",
        "# Assign axis labels\n",
        "plt.xlabel(\"Log Positive count\")\n",
        "plt.ylabel(\"Log Negative count\")\n",
        "\n",
        "# Add the word as the label at the same position as you added the points just before\n",
        "for i in range(0, len(data)):\n",
        "    ax.annotate(data[i][0], (x[i], y[i]), fontsize=12)\n",
        "\n",
        "ax.plot([0, 9], [0, 9], color = 'red') # Plot the red line that divides the 2 areas.\n",
        "plt.show()"
      ],
      "metadata": {
        "colab": {
          "base_uri": "https://localhost:8080/",
          "height": 696
        },
        "id": "y8q6lwcx1RpV",
        "outputId": "1c450b16-3613-4c30-f4a1-d493bf6788b5"
      },
      "execution_count": 64,
      "outputs": [
        {
          "output_type": "display_data",
          "data": {
            "text/plain": [
              "<Figure size 800x800 with 1 Axes>"
            ],
            "image/png": "[encoded data removed]"
          },
          "metadata": {}
        }
      ]
    }
  ]
}